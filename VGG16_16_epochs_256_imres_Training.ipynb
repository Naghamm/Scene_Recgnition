{
 "cells": [
  {
   "cell_type": "code",
   "execution_count": 1,
   "metadata": {},
   "outputs": [
    {
     "output_type": "stream",
     "name": "stderr",
     "text": "Using TensorFlow backend.\n"
    }
   ],
   "source": [
    "from keras.layers import Dense, Conv2D, MaxPool2D , Flatten ,Activation ,Dropout\n",
    "from keras.callbacks import ReduceLROnPlateau, EarlyStopping , ModelCheckpoint\n",
    "from keras.preprocessing.image import ImageDataGenerator\n",
    "from keras.applications import VGG16\n",
    "from keras.models import Sequential\n",
    "from keras.optimizers import Adam\n",
    "import matplotlib.pyplot as plt\n",
    "import numpy as np\n",
    "import keras\n",
    "import os"
   ]
  },
  {
   "cell_type": "markdown",
   "metadata": {},
   "source": [
    "### Read train and validation data using data generator\n"
   ]
  },
  {
   "cell_type": "code",
   "execution_count": 2,
   "metadata": {},
   "outputs": [
    {
     "output_type": "stream",
     "name": "stdout",
     "text": "Found 4800 images belonging to 10 classes.\nFound 1200 images belonging to 10 classes.\n"
    }
   ],
   "source": [
    "data_gen = ImageDataGenerator(rescale=1.0/255.0)\n",
    "train_data = data_gen.flow_from_directory(directory=\"/home/hussein/Scene_Recognition/train\",target_size=(256,256))\n",
    "validation_data = data_gen.flow_from_directory(directory=\"/home/hussein/Scene_Recognition/validation\", target_size=(256,256))\n"
   ]
  },
  {
   "cell_type": "markdown",
   "metadata": {},
   "source": [
    "### Fine tune pre-trained vgg16"
   ]
  },
  {
   "cell_type": "code",
   "execution_count": 3,
   "metadata": {},
   "outputs": [
    {
     "output_type": "stream",
     "name": "stdout",
     "text": "WARNING:tensorflow:From /home/hussein/anaconda3/envs/scene_recognition_env/lib/python3.7/site-packages/keras/backend/tensorflow_backend.py:4070: The name tf.nn.max_pool is deprecated. Please use tf.nn.max_pool2d instead.\n\nModel: \"sequential_1\"\n_________________________________________________________________\nLayer (type)                 Output Shape              Param #   \n=================================================================\nvgg16 (Model)                (None, 8, 8, 512)         14714688  \n_________________________________________________________________\nflatten_1 (Flatten)          (None, 32768)             0         \n_________________________________________________________________\ndropout_1 (Dropout)          (None, 32768)             0         \n_________________________________________________________________\ndense_1 (Dense)              (None, 64)                2097216   \n_________________________________________________________________\ndropout_2 (Dropout)          (None, 64)                0         \n_________________________________________________________________\ndense_2 (Dense)              (None, 10)                650       \n=================================================================\nTotal params: 16,812,554\nTrainable params: 2,097,866\nNon-trainable params: 14,714,688\n_________________________________________________________________\n"
    }
   ],
   "source": [
    "vgg_conv = VGG16(weights='vgg16_weights_tf_dim_ordering_tf_kernels_notop.h5',\n",
    "                  include_top=False,input_shape=(256,256,3))\n",
    "\n",
    "## Disabling training from VGG layers\n",
    "vgg_conv.trainable=False\n",
    "\n",
    "transfer_model = Sequential()\n",
    "transfer_model.add(vgg_conv)\n",
    "transfer_model.add(Flatten())\n",
    "transfer_model.add(Dropout(0.25))\n",
    "transfer_model.add(Dense(64, activation='relu'))\n",
    "transfer_model.add(Dropout(0.25))\n",
    "transfer_model.add(Dense(10, activation='softmax'))\n",
    "\n",
    "transfer_model.summary()"
   ]
  },
  {
   "cell_type": "markdown",
   "metadata": {},
   "source": [
    "###compile & fit transfer model\n"
   ]
  },
  {
   "cell_type": "code",
   "execution_count": 5,
   "metadata": {},
   "outputs": [
    {
     "output_type": "stream",
     "name": "stdout",
     "text": "WARNING:tensorflow:From /usr/local/lib/python3.6/site-packages/tensorflow/python/ops/math_grad.py:1250: add_dispatch_support.<locals>.wrapper (from tensorflow.python.ops.array_ops) is deprecated and will be removed in a future version.\nInstructions for updating:\nUse tf.where in 2.0, which has the same broadcast rule as np.where\nWARNING:tensorflow:From /usr/local/lib/python3.6/site-packages/keras/backend/tensorflow_backend.py:422: The name tf.global_variables is deprecated. Please use tf.compat.v1.global_variables instead.\n\nEpoch 1/30\n  1/150 [..............................] - ETA: 17:00 - loss: 0.3674 - accuracy: 0.8969"
    }
   ],
   "source": [
    "optimizer = Adam(lr=0.2e-3, beta_1=0.9, beta_2=0.999, amsgrad=False)\n",
    "early_stopping = EarlyStopping(restore_best_weights=True)\n",
    "\n",
    "transfer_model.compile(optimizer,loss='binary_crossentropy',metrics=[\"accuracy\"])\n",
    "\n",
    "checkpoint = ModelCheckpoint(\"VGG16_16_epochs_256_imres_Model.h5\", monitor='val_acc', verbose=1, save_best_only=True, save_weights_only=False, mode='auto', period=1)\n",
    "early = EarlyStopping(monitor='val_acc', min_delta=0, patience=3, verbose=1, mode='auto')\n",
    "hist = transfer_model.fit_generator(generator=train_data, validation_data= validation_data ,epochs=16,callbacks=[checkpoint,early]) \n"
   ]
  },
  {
   "cell_type": "code",
   "execution_count": null,
   "metadata": {},
   "outputs": [],
   "source": [
    "transfer_model.save('VGG16_16_epochs_256_imres_Model.h5')\n"
   ]
  },
  {
   "cell_type": "code",
   "execution_count": null,
   "metadata": {},
   "outputs": [],
   "source": [
    "acc = history.history[\"accuracy\"]\n",
    "val_acc = history.history['val_accuracy']\n",
    "\n",
    "loss = history.history['loss']\n",
    "val_loss = history.history['val_loss']\n",
    "\n",
    "plt.figure(figsize=(8, 8))\n",
    "plt.subplot(2, 1, 1)\n",
    "plt.plot(acc, label='Training Accuracy')\n",
    "plt.plot(val_acc, label='Validation Accuracy')\n",
    "plt.legend(loc='lower right')\n",
    "plt.ylabel('Accuracy')\n",
    "plt.ylim([min(plt.ylim()),1])\n",
    "plt.title('Training and Validation Accuracy')\n",
    "\n",
    "plt.subplot(2, 1, 2)\n",
    "plt.plot(loss, label='Training Loss')\n",
    "plt.plot(val_loss, label='Validation Loss')\n",
    "plt.legend(loc='upper right')\n",
    "plt.ylabel('Cross Entropy')\n",
    "plt.ylim([0,max(plt.ylim())])\n",
    "plt.title('Training and Validation Loss')\n",
    "plt.show()"
   ]
  }
 ],
 "metadata": {
  "language_info": {
   "codemirror_mode": {
    "name": "ipython",
    "version": 3
   },
   "file_extension": ".py",
   "mimetype": "text/x-python",
   "name": "python",
   "nbconvert_exporter": "python",
   "pygments_lexer": "ipython3",
   "version": "3.7.6-final"
  },
  "orig_nbformat": 2,
  "kernelspec": {
   "name": "python3",
   "display_name": "Python 3"
  }
 },
 "nbformat": 4,
 "nbformat_minor": 2
}