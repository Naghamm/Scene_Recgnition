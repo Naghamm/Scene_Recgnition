{
 "cells": [
  {
   "cell_type": "code",
   "execution_count": 1,
   "metadata": {},
   "outputs": [],
   "source": [
    "import numpy as np\n",
    "import shutil\n",
    "import time\n",
    "import cv2\n",
    "import os\n",
    "from albumentations import (\n",
    "    HorizontalFlip, IAAPerspective, ShiftScaleRotate, CLAHE, RandomRotate90,\n",
    "    Transpose, ShiftScaleRotate, Blur, OpticalDistortion, GridDistortion, HueSaturationValue,\n",
    "    IAAAdditiveGaussianNoise, GaussNoise, MotionBlur, MedianBlur, RandomBrightnessContrast, IAAPiecewiseAffine,\n",
    "    IAASharpen, IAAEmboss, Flip, OneOf, Compose ,RandomContrast , RandomBrightness\n",
    ")\n"
   ]
  },
  {
   "cell_type": "code",
   "execution_count": 2,
   "metadata": {},
   "outputs": [],
   "source": [
    "train_folders_path = '/app/train'\n",
    "val_folders_path =  '/app/validation'\n",
    "train_folders_names = os.listdir(train_folders_path)\n",
    "val_percent = 0.2\n",
    "limit_of_augmented_files = 600\n",
    "no_of_training_files = limit_of_augmented_files*(1-val_percent)"
   ]
  },
  {
   "cell_type": "markdown",
   "metadata": {},
   "source": [
    "### Create validation Directory if doesn't exist\n"
   ]
  },
  {
   "cell_type": "code",
   "execution_count": 3,
   "metadata": {},
   "outputs": [],
   "source": [
    "if not os.path.exists(val_folders_path):\n",
    "    os.mkdir(val_folders_path)\n",
    "\n",
    "for i in range(len(train_folders_names)):\n",
    "    if not os.path.exists(val_folders_path +'/' + train_folders_names[i]):\n",
    "        os.mkdir(val_folders_path +'/' + train_folders_names[i])\n"
   ]
  },
  {
   "cell_type": "markdown",
   "metadata": {},
   "source": [
    "### Augment data"
   ]
  },
  {
   "cell_type": "code",
   "execution_count": 4,
   "metadata": {},
   "outputs": [
    {
     "output_type": "stream",
     "name": "stdout",
     "text": "kitchen\npoolinside\ngreenhouse\nrestaurant\ntoystore\ngym\noperating_room\nbedroom\nairport_inside\nbakery\n"
    }
   ],
   "source": [
    "aug = Compose([\n",
    "        RandomRotate90(),\n",
    "        Flip(),\n",
    "        Transpose(),\n",
    "        OneOf([\n",
    "            IAAAdditiveGaussianNoise(),\n",
    "            GaussNoise(),\n",
    "        ], p=0.2),\n",
    "        OneOf([\n",
    "            MotionBlur(p=.2),\n",
    "            MedianBlur(blur_limit=3, p=.1),\n",
    "            Blur(blur_limit=3, p=.1),\n",
    "        ], p=0.2),\n",
    "        ShiftScaleRotate(shift_limit=0.0625, scale_limit=0.2, rotate_limit=45, p=.2),\n",
    "        OneOf([\n",
    "            OpticalDistortion(p=0.3),\n",
    "            GridDistortion(p=.1),\n",
    "            IAAPiecewiseAffine(p=0.3),\n",
    "        ], p=0.2),\n",
    "        OneOf([\n",
    "            CLAHE(clip_limit=2),\n",
    "            IAASharpen(),\n",
    "            IAAEmboss(),\n",
    "            RandomContrast(),\n",
    "            RandomBrightness(),\n",
    "        ], p=0.3),\n",
    "        HueSaturationValue(p=0.3),\n",
    "    ], p=0.5)\n",
    "\n",
    "for i in range(len(train_folders_names)):\n",
    "    folder_name = train_folders_names[i]\n",
    "    print (folder_name)\n",
    "    folder_path = train_folders_path + '/' + folder_name + '/'\n",
    "    files_path_list = os.listdir(folder_path)\n",
    "    len_original_folder = len_augmented_folder = len(files_path_list)\n",
    "    augmentation_count, image_number = 1, 0\n",
    "    augment = True\n",
    "\n",
    "    while augment:\n",
    "        if len_augmented_folder >= limit_of_augmented_files:\n",
    "            augment = False\n",
    "            break\n",
    "\n",
    "        image  = cv2.imread(folder_path + files_path_list[image_number])\n",
    "        image_aug = aug(image=image)['image']\n",
    "        filename, file_ext = os.path.splitext(os.path.basename(folder_path + files_path_list[image_number]))\n",
    "        cv2.imwrite(train_folders_path + '/' + folder_name + '/' + filename + '_' + str(time.time()) + file_ext , image_aug)\n",
    "        len_augmented_folder+=1\n",
    "        augmentation_count+=1\n",
    "        image_number +=1\n",
    "        if len_augmented_folder != limit_of_augmented_files and image_number==len_original_folder:\n",
    "            image_number=0 "
   ]
  },
  {
   "cell_type": "markdown",
   "metadata": {},
   "source": [
    "## Rename Training Data and split data to train and validation folders:\n"
   ]
  },
  {
   "cell_type": "code",
   "execution_count": 5,
   "metadata": {},
   "outputs": [],
   "source": [
    "for i in range(len(train_folders_names)):\n",
    "    folder_name = train_folders_names[i]\n",
    "    folder_path = train_folders_path + '/' + folder_name + '/'\n",
    "    for count, filename in enumerate(os.listdir(folder_path)): \n",
    "        dst = folder_path+ 'img_' + str(count) + '_' + str(i) + '.jpg'\n",
    "        src = folder_path + filename\n",
    "        os.rename(src, dst)\n",
    "        if count >= no_of_training_files:          \n",
    "            shutil.move(dst,val_folders_path + '/' +folder_name+'/'+ 'img_' + str(count) + '_' + str(i) + '.jpg')\n"
   ]
  }
 ],
 "metadata": {
  "language_info": {
   "codemirror_mode": {
    "name": "ipython",
    "version": 3
   },
   "file_extension": ".py",
   "mimetype": "text/x-python",
   "name": "python",
   "nbconvert_exporter": "python",
   "pygments_lexer": "ipython3",
   "version": "3.7.6-final"
  },
  "orig_nbformat": 2,
  "kernelspec": {
   "name": "python3",
   "display_name": "Python 3"
  }
 },
 "nbformat": 4,
 "nbformat_minor": 2
}